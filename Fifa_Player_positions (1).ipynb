{
 "cells": [
  {
   "cell_type": "code",
   "execution_count": 1,
   "metadata": {},
   "outputs": [],
   "source": [
    "import pandas as pd\n",
    "import openpyxl\n",
    "\n",
    "pd.options.mode.chained_assignment = None\n",
    "\n",
    "complete_df = pd.read_csv('/home/kawaleenm/Documents/Fifa/CompleteDataset.csv',low_memory = False)"
   ]
  },
  {
   "cell_type": "code",
   "execution_count": 2,
   "metadata": {},
   "outputs": [],
   "source": [
    "def to_float(x):\n",
    "    try:\n",
    "        return float(x)\n",
    "    except:\n",
    "        try:\n",
    "            m = x.split('+')\n",
    "            first = float(m[0])\n",
    "            second = float(m[1])\n",
    "            sum1 = first - second\n",
    "            return sum1\n",
    "            sum1 = 0\n",
    "        except:\n",
    "            n = x.split('-')\n",
    "            first = float(n[0])\n",
    "            second = float(n[1])\n",
    "            sub = first - second\n",
    "            return sub\n",
    "            sub = 0"
   ]
  },
  {
   "cell_type": "code",
   "execution_count": 3,
   "metadata": {},
   "outputs": [],
   "source": [
    "complete_df['Crossing'] = complete_df['Crossing'].apply(to_float)\n",
    "complete_df.Finishing = complete_df.Finishing.apply(to_float)\n",
    "complete_df['Heading accuracy'] = complete_df['Heading accuracy'].apply(to_float)\n",
    "complete_df['Short passing'] = complete_df['Short passing'].apply(to_float)\n",
    "complete_df.Volleys = complete_df.Volleys.apply(to_float)\n",
    "\n",
    "complete_df['Attacking'] = complete_df.Crossing + complete_df.Finishing + complete_df['Heading accuracy'] + complete_df['Short passing']+ complete_df.Volleys\n"
   ]
  },
  {
   "cell_type": "code",
   "execution_count": 4,
   "metadata": {},
   "outputs": [],
   "source": [
    "complete_df['Marking'] = complete_df['Marking'].apply(to_float)\n",
    "complete_df['Standing tackle'] = complete_df['Standing tackle'].apply(to_float)\n",
    "complete_df['Sliding tackle'] = complete_df['Sliding tackle'].apply(to_float)\n",
    "\n",
    "complete_df['Defending'] = complete_df.Marking + complete_df['Standing tackle'] + complete_df['Sliding tackle']\n"
   ]
  },
  {
   "cell_type": "code",
   "execution_count": 5,
   "metadata": {},
   "outputs": [],
   "source": [
    "complete_df['GK reflexes'] = complete_df['GK reflexes'].apply(to_float)\n",
    "complete_df['GK diving'] = complete_df['GK diving'].apply(to_float)\n",
    "complete_df['GK handling'] = complete_df['GK handling'].apply(to_float)\n",
    "complete_df['GK kicking'] = complete_df['GK kicking'].apply(to_float)\n",
    "complete_df['GK positioning'] = complete_df['GK positioning'].apply(to_float)\n",
    "\n",
    "complete_df['Goal_Keeping'] = complete_df['GK diving'] + complete_df['GK handling'] + complete_df['GK kicking'] + complete_df['GK positioning']+ complete_df['GK reflexes']\n"
   ]
  },
  {
   "cell_type": "code",
   "execution_count": 6,
   "metadata": {},
   "outputs": [],
   "source": [
    "complete_df['Vision'] = complete_df['Vision'].apply(to_float)\n",
    "complete_df['Stamina'] = complete_df['Stamina'].apply(to_float)\n",
    "complete_df['Short passing'] = complete_df['Short passing'].apply(to_float)\n",
    "complete_df['Long passing'] = complete_df['Long passing'].apply(to_float)\n",
    "\n",
    "complete_df['Mid_Field'] = complete_df['Vision'] + complete_df['Stamina'] + complete_df['Short passing'] + complete_df['Long passing']\n",
    "\n",
    "complete_df['CAM'] = (complete_df.Attacking + complete_df.Mid_Field)/2\n",
    "\n",
    "complete_df['CDM'] = (complete_df.Defending + complete_df.Mid_Field)/2\n"
   ]
  },
  {
   "cell_type": "code",
   "execution_count": 8,
   "metadata": {},
   "outputs": [],
   "source": [
    "complete_df['Position_field'] = ''\n",
    "\n",
    "for n in range(complete_df.shape[0]):\n",
    "\tcheck =[]\n",
    "\n",
    "\tforward = complete_df.Attacking[n]\n",
    "\tmid = complete_df.Mid_Field[n]\n",
    "\tcam = complete_df.CAM[n]\n",
    "\tcdm = complete_df.CDM[n]\n",
    "\tback = complete_df.Defending[n]\n",
    "\tgk = complete_df.Goal_Keeping[n]\n",
    "\n",
    "\tcheck.append(forward)\n",
    "\tcheck.append(mid)\n",
    "\tcheck.append(cam)\n",
    "\tcheck.append(cdm)\n",
    "\tcheck.append(back)\n",
    "\tcheck.append(gk)\n",
    " \n",
    "\tskill_value = max(check)\n",
    "\n",
    "\tif skill_value == forward:\n",
    " \t\tcomplete_df['Position_field'][n] = 'Forward'\n",
    "\tif skill_value == mid:\n",
    " \t\tcomplete_df['Position_field'][n] = 'Mid'\n",
    "\tif skill_value == cam:\n",
    " \t\tcomplete_df['Position_field'][n] = 'Attacking Mid'\n",
    "\tif skill_value == cdm:\n",
    " \t\tcomplete_df['Position_field'][n] = 'Mid Defensive'\n",
    "\tif skill_value == back:\n",
    " \t\tcomplete_df['Position_field'][n] = 'Defending'\n",
    "\tif skill_value == gk:\n",
    "\t\tcomplete_df['Position_field'][n] = 'Goal Keeping'\n",
    "\t\n",
    "\tfor i in check:\n",
    "\t\tdel i\t"
   ]
  },
  {
   "cell_type": "code",
   "execution_count": 9,
   "metadata": {},
   "outputs": [
    {
     "name": "stdout",
     "output_type": "stream",
     "text": [
      "Enter ID of Player: 183277\n",
      "183277\n",
      "        Name     Club Position_field\n",
      "7  E. Hazard  Chelsea        Forward\n"
     ]
    }
   ],
   "source": [
    "input_id = input('Enter ID of Player: ')\n",
    "print(input_id)\n",
    "posi = complete_df.loc[complete_df.ID == int(input_id),['Name','Club','Position_field']]\n",
    "\n",
    "if posi.empty:\n",
    "\tprint('Invalid ID')\n",
    "else:\n",
    "\tprint(posi)"
   ]
  }
 ],
 "metadata": {
  "kernelspec": {
   "display_name": "Python 3",
   "language": "python",
   "name": "python3"
  },
  "language_info": {
   "codemirror_mode": {
    "name": "ipython",
    "version": 3
   },
   "file_extension": ".py",
   "mimetype": "text/x-python",
   "name": "python",
   "nbconvert_exporter": "python",
   "pygments_lexer": "ipython3",
   "version": "3.5.2"
  }
 },
 "nbformat": 4,
 "nbformat_minor": 2
}
