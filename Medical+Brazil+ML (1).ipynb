{
 "cells": [
  {
   "cell_type": "code",
   "execution_count": 73,
   "metadata": {},
   "outputs": [],
   "source": [
    "import pandas as pd\n",
    "import numpy as np\n",
    "from sklearn.model_selection import train_test_split\n",
    "from sklearn import preprocessing,svm\n",
    "\n",
    "import mglearn\n",
    "import warnings\n",
    "warnings.filterwarnings('ignore', '.*Axes.*compatible.*tight_layout.*')\n",
    "\n",
    "df = pd.read_csv('/home/kawaleenm/Documents/Medical Brazil/Med Appointments.csv',low_memory = False)"
   ]
  },
  {
   "cell_type": "code",
   "execution_count": 74,
   "metadata": {},
   "outputs": [],
   "source": [
    "df['Gender'] = df.Gender.replace(['M', 'F'], [1, 0])\n",
    "df['No-show'] = df['No-show'].replace(['Yes', 'No'], [1, 0])"
   ]
  },
  {
   "cell_type": "code",
   "execution_count": 76,
   "metadata": {},
   "outputs": [],
   "source": [
    "df['AppointmentDay'] = pd.to_datetime(df.AppointmentDay)\n",
    "df['ScheduledDay'] = pd.to_datetime(df.ScheduledDay)\n",
    "df['Days_Before_Appointment'] = df.AppointmentDay.dt.date - df.ScheduledDay.dt.date \n",
    "df['Days_Before_Appointment'] = abs(df['Days_Before_Appointment'])\n",
    "df['Days_Before_Appointment'] = df.Days_Before_Appointment.astype('str')"
   ]
  },
  {
   "cell_type": "code",
   "execution_count": 79,
   "metadata": {},
   "outputs": [],
   "source": [
    "import re\n",
    "\n",
    "def day_str(x):\n",
    "    m = re.sub('\\s[a-zA-Z0-9:-]*','',x)\n",
    "    return m\n",
    "\n",
    "df.Days_Before_Appointment = df.Days_Before_Appointment.apply(day_str)\n",
    "df['Days_Before_Appointment'] = df.Days_Before_Appointment.astype('float')"
   ]
  },
  {
   "cell_type": "code",
   "execution_count": 82,
   "metadata": {},
   "outputs": [],
   "source": [
    "df.drop(['PatientId','AppointmentID','ScheduledDay','AppointmentDay'], axis=1, inplace=True)"
   ]
  },
  {
   "cell_type": "code",
   "execution_count": 83,
   "metadata": {},
   "outputs": [],
   "source": [
    "neighbourhood_names = list(df.Neighbourhood.unique())\n",
    "neighbourhood_names.sort()"
   ]
  },
  {
   "cell_type": "code",
   "execution_count": 86,
   "metadata": {},
   "outputs": [],
   "source": [
    "_list = []\n",
    "for x in range(81):\n",
    "    _list.append(x)\n",
    "\n",
    "neighbourhood_dict = {k:v for k,v in zip(neighbourhood_names,_list) }\n",
    "\n",
    "def substitute(x):\n",
    "    for k,v in neighbourhood_dict.items():\n",
    "        if x == k:\n",
    "            return v\n",
    "df['Neighbourhood'] = df.Neighbourhood.apply(substitute) "
   ]
  },
  {
   "cell_type": "code",
   "execution_count": 91,
   "metadata": {
    "scrolled": true
   },
   "outputs": [
    {
     "name": "stdout",
     "output_type": "stream",
     "text": [
      "Number of Training sets: (82895, 10)\n",
      "Number of Testing sets: (27632, 10)\n"
     ]
    }
   ],
   "source": [
    "X = np.array(df.drop(['No-show'],axis=1))\n",
    "y = np.array(df['No-show'])\n",
    "\n",
    "X_train, X_test, y_train, y_test = train_test_split(X, y, random_state=0)\n",
    "print('Number of Training sets: {}'.format(X_train.shape))\n",
    "print('Number of Testing sets: {}'.format(X_test.shape))"
   ]
  },
  {
   "cell_type": "code",
   "execution_count": 104,
   "metadata": {},
   "outputs": [
    {
     "name": "stdout",
     "output_type": "stream",
     "text": [
      "Accuracy of Prediction: 0.74\n"
     ]
    }
   ],
   "source": [
    "# Predicting No-Show is True with K - Neighbors Classifier\n",
    "\n",
    "from sklearn.neighbors import KNeighborsClassifier\n",
    "\n",
    "knn = KNeighborsClassifier(n_neighbors=1)\n",
    "knn.fit(X_train, y_train)\n",
    "\n",
    "\n",
    "print(\"Accuracy of Prediction: {:.2f}\".format(knn.score(X_test, y_test)))"
   ]
  },
  {
   "cell_type": "code",
   "execution_count": 96,
   "metadata": {},
   "outputs": [
    {
     "name": "stdout",
     "output_type": "stream",
     "text": [
      "Accuracy on training set: 0.966\n",
      "Accuracy on test set: 0.739\n"
     ]
    }
   ],
   "source": [
    "from sklearn.tree import DecisionTreeClassifier\n",
    "\n",
    "tree = DecisionTreeClassifier(random_state=0)\n",
    "tree.fit(X_train, y_train)\n",
    "#print(\"Accuracy on training set: {:.3f}\".format(tree.score(X_train, y_train)))\n",
    "print(\"Accuracy on test set: {:.3f}\".format(tree.score(X_test, y_test)))"
   ]
  },
  {
   "cell_type": "code",
   "execution_count": 119,
   "metadata": {},
   "outputs": [
    {
     "name": "stdout",
     "output_type": "stream",
     "text": [
      "Accuracy on Test set: 0.798\n"
     ]
    }
   ],
   "source": [
    "from sklearn.linear_model import LogisticRegression\n",
    "logreg = LogisticRegression().fit(X, y)\n",
    "\n",
    "print(\"Accuracy on Test set: {:.3f}\".format(logreg.score(X_test, y_test)))"
   ]
  },
  {
   "cell_type": "code",
   "execution_count": 118,
   "metadata": {},
   "outputs": [
    {
     "name": "stdout",
     "output_type": "stream",
     "text": [
      "Predict whether patient will Turn Up\n",
      "Enter age of patient:21\n",
      "Enter Gender__0 for Female__1 for Male__ : 0\n",
      "Enter Neighbourhood Pincode __between 0-80 __: 13\n",
      "If Scholorship __0 for No__1 for Yes__ : 1\n",
      "If HyperTension __0 for No__1 for Yes__ : 0\n",
      "If Diabetes __0 for No__1 for Yes__ : 1\n",
      "If Alcoholism __0 for No__1 for Yes__ : 0\n",
      "If Handcap __0 for No__1 for Yes__ : 1\n",
      "If SMS_received __0 for No__1 for Yes__ : 0\n",
      "How many Days from now appoint should be scheduled: 4\n",
      "Prediction by KNN:\n",
      " Patient will Show Up\n",
      "Prediction by Decesion Tree:\n",
      " Patient will Show Up\n",
      "Prediction by LogReg:\n",
      " Patient will Show Up\n"
     ]
    }
   ],
   "source": [
    "print('Predict whether patient will Turn Up')\n",
    "age = int(input('Enter age of patient:'))\n",
    "gender = int(input('Enter Gender (_0 for Female_) (_1 for Male_) : '))\n",
    "neighbourhood = int(input('Enter Neighbourhood Pincode (_between 0-80 _): '))\n",
    "Scholarship  = int(input('If Scholorship (_0 for No_) (_1 for Yes_) : '))\n",
    "Hipertension = int(input('If HyperTension (_0 for No_) (_1 for Yes_) : '))\n",
    "Diabetes = int(input('If Diabetes (_0 for No_) (_1 for Yes_) : '))\n",
    "Alcoholism = int(input('If Alcoholism (_0 for No_) (_1 for Yes_) : '))\n",
    "Handcap = int(input('If Handcap (_0 for No_) (_1 for Yes_) : '))\n",
    "SMS_received = int(input('If SMS_received (_0 for No_) (_1 for Yes_) : '))\n",
    "Days_Before_Appointment = float(input('How many Days from now appoint should be scheduled: '))\n",
    "\n",
    "patient_list = []\n",
    "patient_list.append(age)\n",
    "patient_list.append(gender)\n",
    "patient_list.append(neighbourhood)\n",
    "patient_list.append(Scholarship)\n",
    "patient_list.append(Hipertension)\n",
    "patient_list.append(Diabetes)\n",
    "patient_list.append(Alcoholism)\n",
    "patient_list.append(Handcap)\n",
    "patient_list.append(SMS_received)\n",
    "patient_list.append(Days_Before_Appointment)\n",
    "\n",
    "patient_test = np.array([patient_list])\n",
    "\n",
    "y_knn = knn.predict(patient_test)\n",
    "y_tree = tree.predict(patient_test)\n",
    "y_logreg = logreg.predict(patient_test)\n",
    "\n",
    "if y_knn[0] == 0:\n",
    "    verdict_k = 'Patient will Show Up'\n",
    "else:\n",
    "    verdict_k = 'Patient will not Show Up'\n",
    "\n",
    "if y_tree[0] == 0:\n",
    "    verdict_t = 'Patient will Show Up'\n",
    "else:\n",
    "    verdict_t = 'Patient will not Show Up'\n",
    "    \n",
    "if y_logreg[0] == 0:\n",
    "    verdict_l = 'Patient will Show Up'\n",
    "else:\n",
    "    verdict_l = 'Patient will not Show Up'    \n",
    "\n",
    "print(\"Prediction by KNN: {}\\n\".format(verdict_k))\n",
    "print(\"Prediction by Decesion Tree: {}\\n\".format(verdict_t))\n",
    "print(\"Prediction by LogReg: {}\\n\".format(verdict_l))"
   ]
  }
 ],
 "metadata": {
  "kernelspec": {
   "display_name": "Python 3",
   "language": "python",
   "name": "python3"
  },
  "language_info": {
   "codemirror_mode": {
    "name": "ipython",
    "version": 3
   },
   "file_extension": ".py",
   "mimetype": "text/x-python",
   "name": "python",
   "nbconvert_exporter": "python",
   "pygments_lexer": "ipython3",
   "version": "3.5.2"
  }
 },
 "nbformat": 4,
 "nbformat_minor": 2
}
